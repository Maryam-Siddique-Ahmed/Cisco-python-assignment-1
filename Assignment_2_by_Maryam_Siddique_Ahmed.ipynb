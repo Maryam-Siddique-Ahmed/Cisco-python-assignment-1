{
 "cells": [
  {
   "cell_type": "code",
   "execution_count": null,
   "metadata": {},
   "outputs": [],
   "source": [
    "#1. Write a program which takes 5 inputs from user for different subject’s\n",
    "#marks, total it and generate mark sheet using grades ?\n"
   ]
  },
  {
   "cell_type": "code",
   "execution_count": 112,
   "metadata": {},
   "outputs": [
    {
     "name": "stdout",
     "output_type": "stream",
     "text": [
      "^^^^^^^Marksheet^^^^^^\n",
      "*English marks: 75/66\n",
      "*Chemistry marks: 100/56\n",
      "*Sindhi marks: 75/72\n",
      "*Computer marks: 100/98\n",
      "*Pakistan studies marks: 75/56\n",
      "Percentage:69%\n",
      "Grade:C\n"
     ]
    }
   ],
   "source": [
    "print(\"^^^^^^^Marksheet^^^^^^\")\n",
    "\n",
    "a=(int(input(\"*English marks: 75/\")))\n",
    "b=(int(input(\"*Chemistry marks: 100/\")))\n",
    "c=(int(input(\"*Sindhi marks: 75/\")))\n",
    "d=(int(input(\"*Computer marks: 100/\")))\n",
    "e=(int(input(\"*Pakistan studies marks: 75/\")))\n",
    "Percentage=(a+b+c+d+e)//5\n",
    "print(f\"Percentage:{Percentage}%\")\n",
    "if Percentage >=90:\n",
    "    print(\"Grade:A+\")\n",
    "elif Percentage >=80:\n",
    "    print(\"Grade:A\")\n",
    "elif Percentage >=70:\n",
    "    print(\"Grade:B\")    \n",
    "elif Percentage >=60:\n",
    "    print(\"Grade:C\")\n",
    "elif Percentage >=50:\n",
    "    print(\"Grade:D\")\n",
    "else:\n",
    "    print(\"Grade:F\")\n"
   ]
  },
  {
   "cell_type": "code",
   "execution_count": 114,
   "metadata": {},
   "outputs": [
    {
     "name": "stdout",
     "output_type": "stream",
     "text": [
      "Enter the number:789565547\n",
      "Odd number\n"
     ]
    }
   ],
   "source": [
    "#2. Write a program which take input from user and identify that the given\n",
    "#number is even or odd?\n",
    "a=int(input(\"Enter the number:\"))\n",
    "if a%2==0 :\n",
    "    print(f\"Even Number\")\n",
    "else:\n",
    "    print(f\"Odd number\")"
   ]
  },
  {
   "cell_type": "code",
   "execution_count": 4,
   "metadata": {},
   "outputs": [
    {
     "name": "stdout",
     "output_type": "stream",
     "text": [
      "Enter the number:47\n",
      "Odd number\n"
     ]
    }
   ],
   "source": [
    "a=int(input(\"Enter the number:\"))\n",
    "if a%2==0 :\n",
    "    print(f\"Even Number\")\n",
    "else:\n",
    "    print(f\"Odd number\")"
   ]
  },
  {
   "cell_type": "code",
   "execution_count": 6,
   "metadata": {},
   "outputs": [
    {
     "data": {
      "text/plain": [
       "7"
      ]
     },
     "execution_count": 6,
     "metadata": {},
     "output_type": "execute_result"
    }
   ],
   "source": [
    "#3. Write a program which print the length of the list?\n",
    "a=[\"Maryam\",\"Tehmina\",\"Zainab\",\"Tooba\",\"Saima\",\"Hira\",\"Farwa\"]\n",
    "len(a)"
   ]
  },
  {
   "cell_type": "code",
   "execution_count": 95,
   "metadata": {},
   "outputs": [
    {
     "name": "stdout",
     "output_type": "stream",
     "text": [
      "11\n"
     ]
    }
   ],
   "source": [
    "#4. Write a Python program to sum all the numeric items in a list?\n",
    "a=[1,2,3,4,5,6,7,8,9,10]\n",
    "x=0\n",
    "for i in a:\n",
    "    i=i+1\n",
    "print(i)\n",
    "\n",
    "\n",
    "\n",
    "    "
   ]
  },
  {
   "cell_type": "code",
   "execution_count": 102,
   "metadata": {},
   "outputs": [
    {
     "name": "stdout",
     "output_type": "stream",
     "text": [
      "Largest Number:457258\n"
     ]
    }
   ],
   "source": [
    "#5. Write a Python program to get the largest number from a numeric list.\n",
    "a=[1634,27,13453,4934,584,6,7783,457258,9746,10]\n",
    "b=max(a)\n",
    "print(f\"Largest Number:{b}\")\n",
    "\n",
    "\n"
   ]
  },
  {
   "cell_type": "code",
   "execution_count": 103,
   "metadata": {},
   "outputs": [],
   "source": [
    "#6. Take a list, say for example this one:\n",
    "#a = [1, 1, 2, 3, 5, 8, 13, 21, 34, 55, 89]\n",
    "#and write a program that prints out all the elements of the list that are\n",
    "#less than 5."
   ]
  },
  {
   "cell_type": "code",
   "execution_count": 115,
   "metadata": {},
   "outputs": [
    {
     "name": "stdout",
     "output_type": "stream",
     "text": [
      "1 1 2 3 "
     ]
    }
   ],
   "source": [
    "a = [1, 1, 2, 3, 5, 8, 13, 21, 34, 55, 89]\n",
    "for i in a:\n",
    "    if i <5:\n",
    "        print(i,end=\" \")"
   ]
  },
  {
   "cell_type": "code",
   "execution_count": null,
   "metadata": {},
   "outputs": [],
   "source": []
  }
 ],
 "metadata": {
  "kernelspec": {
   "display_name": "Python 3",
   "language": "python",
   "name": "python3"
  },
  "language_info": {
   "codemirror_mode": {
    "name": "ipython",
    "version": 3
   },
   "file_extension": ".py",
   "mimetype": "text/x-python",
   "name": "python",
   "nbconvert_exporter": "python",
   "pygments_lexer": "ipython3",
   "version": "3.7.3"
  }
 },
 "nbformat": 4,
 "nbformat_minor": 2
}
