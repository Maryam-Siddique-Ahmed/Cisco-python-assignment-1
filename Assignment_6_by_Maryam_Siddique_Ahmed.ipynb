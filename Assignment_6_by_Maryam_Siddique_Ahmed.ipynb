{
 "cells": [
  {
   "cell_type": "markdown",
   "metadata": {},
   "source": [
    "# Question 1:\n",
    "# Define Object Oriented Programming Language?"
   ]
  },
  {
   "cell_type": "markdown",
   "metadata": {},
   "source": [
    "Object-oriented programming (OOP):\n",
    "          Object-oriented programming is a programming language model in which programs are organized    around data, or objects, rather than functions and methods. An object can be defined as a data field that has unique attributes and behavior. Examples of bike.A bike name,colour,make,model are attributes and speed  is behaviour."
   ]
  },
  {
   "cell_type": "markdown",
   "metadata": {},
   "source": [
    "# Question 2:\n"
   ]
  },
  {
   "cell_type": "markdown",
   "metadata": {},
   "source": [
    "# List down the Benefits of OOP?"
   ]
  },
  {
   "cell_type": "raw",
   "metadata": {},
   "source": [
    " Benefits of OOP:\n",
    "1.Modularity for easier troubleshooting \n",
    "2.Reuse of code through inheritance \n",
    "3.Flexibility through polymorphism \n",
    "4.Effective problem solving"
   ]
  },
  {
   "cell_type": "markdown",
   "metadata": {},
   "source": [
    "# Question 3:\n"
   ]
  },
  {
   "cell_type": "markdown",
   "metadata": {},
   "source": [
    "# Differentiate between function and method?"
   ]
  },
  {
   "cell_type": "raw",
   "metadata": {},
   "source": [
    "*function:\n",
    "    A function is a block of code which only runs when it is called. You can pass data, known as parameters, into a function. A function can return data as a result"
   ]
  },
  {
   "cell_type": "raw",
   "metadata": {},
   "source": [
    "*Method:\n",
    "  A method is a function that takes a class instance as its first parameter. Methods are members of classes.The method is accessible to data that is contained within the class."
   ]
  },
  {
   "cell_type": "markdown",
   "metadata": {},
   "source": [
    "# Question 4:\n"
   ]
  },
  {
   "cell_type": "markdown",
   "metadata": {},
   "source": [
    "# Define the following terms:\n"
   ]
  },
  {
   "cell_type": "markdown",
   "metadata": {},
   "source": [
    "# 1. Class"
   ]
  },
  {
   "cell_type": "raw",
   "metadata": {},
   "source": [
    "Class:\n",
    "A class is a code template for creating objects.class is a blueprint for the object."
   ]
  },
  {
   "cell_type": "markdown",
   "metadata": {},
   "source": [
    "# 2.Object"
   ]
  },
  {
   "cell_type": "raw",
   "metadata": {},
   "source": [
    " Object:\n",
    " Object is simply a collection of data (variables) and methods(functions) that act on those data. class is a blueprint for the object."
   ]
  },
  {
   "cell_type": "markdown",
   "metadata": {},
   "source": [
    "# 3.Attribute"
   ]
  },
  {
   "cell_type": "raw",
   "metadata": {},
   "source": [
    "Attribute:\n",
    " A attribute is a Python variable that belongs to a class rather than a particular object. It is shared between all the objects of this class and it is defined outside the constructor function, __init__(self,...) , of the class"
   ]
  },
  {
   "cell_type": "markdown",
   "metadata": {},
   "source": [
    "# 4.Behaviour"
   ]
  },
  {
   "cell_type": "raw",
   "metadata": {},
   "source": [
    " Behavior:\n",
    "   Behavior of an object is defined by its methods, which are the functions and subroutines defined within the object class "
   ]
  },
  {
   "cell_type": "markdown",
   "metadata": {},
   "source": [
    "# Question 5:\n"
   ]
  },
  {
   "cell_type": "markdown",
   "metadata": {},
   "source": [
    "# Write a code in python in which create a class named it Car which have 5 attributes such like (model, color and name etc.) and 3 methods. And create 5 object instance from that class."
   ]
  },
  {
   "cell_type": "code",
   "execution_count": 105,
   "metadata": {},
   "outputs": [
    {
     "name": "stdout",
     "output_type": "stream",
     "text": [
      "==========================\n",
      "Information of Car\n",
      "==========================\n",
      "Car name is : Hijet\n",
      "Car model is : Suzuki\n",
      "Car colour is : Red\n",
      "Car speed_limit is : 60\n",
      "==========================\n",
      "Information of Car\n",
      "==========================\n",
      "Car name is : Corolla\n",
      "Car model is : Toyota\n",
      "Car colour is : Black\n",
      "Car speed_limit is : 100\n",
      "==========================\n",
      "Information of Car\n",
      "==========================\n",
      "Car name is : Civic\n",
      "Car model is : Honda\n",
      "Car colour is : Blue\n",
      "Car speed_limit is : 70\n",
      "==========================\n",
      "Information of Car\n",
      "==========================\n",
      "Car name is : Wagon R\n",
      "Car model is : Suzuki\n",
      "Car colour is : Pink\n",
      "Car speed_limit is : 90\n",
      "==========================\n",
      "Information of Car\n",
      "==========================\n",
      "Car name is : Hilux\n",
      "Car model is : Toyota\n",
      "Car colour is : Green\n",
      "Car speed_limit is : 65\n"
     ]
    }
   ],
   "source": [
    "class car():\n",
    "    def __init__(self,name,model, color,speed_limit):\n",
    "            self.color = color\n",
    "            self.speed_limit = speed_limit\n",
    "            self.model = model\n",
    "            self.name =name\n",
    "    def car1_info(self):\n",
    "            print(\"==========================\")\n",
    "            print(\"Information of Car\")\n",
    "            print(\"==========================\")\n",
    "            print(f\"Car name is : {self.name}\")\n",
    "            print(f\"Car model is : {self.model}\")\n",
    "            print(f\"Car colour is : {self.color}\")\n",
    "            print(f\"Car speed_limit is : {self.speed_limit}\")\n",
    "    def car2_info(self):\n",
    "            print(\"==========================\")\n",
    "            print(\"Information of Car\")\n",
    "            print(\"==========================\")\n",
    "            print(f\"Car name is : {self.name}\")\n",
    "            print(f\"Car model is : {self.model}\")\n",
    "            print(f\"Car colour  is : {self.color}\")\n",
    "            print(f\"Car speed_limit is : {self.speed_limit}\")\n",
    "    def car3_info(self):\n",
    "            print(\"==========================\")\n",
    "            print(\"Information of Car\")\n",
    "            print(\"==========================\")\n",
    "            print(f\"Car name is : {self.name}\") \n",
    "            print(f\"Car model is : {self.model}\")\n",
    "            print(f\"Car colour  is : {self.color}\")\n",
    "            print(f\"Car speed_limit is : {self.speed_limit}\")\n",
    "    def car4_info(self):\n",
    "            print(\"==========================\")\n",
    "            print(\"Information of Car\")\n",
    "            print(\"==========================\")\n",
    "            print(f\"Car model is : {self.model}\")\n",
    "            print(f\"Car colour  is : {self.color}\")\n",
    "            print(f\"Car speed_limit is : {self.speed_limit}\")\n",
    "    def car5_info(self):\n",
    "            print(\"==========================\")\n",
    "            print(\"Information of Car\")\n",
    "            print(\"==========================\")\n",
    "            print(f\"Car name is : {self.name}\")\n",
    "            print(f\"Car model is : {self.model}\")\n",
    "            print(f\"Car colour is : {self.color}\")\n",
    "            print(f\"Car speed_limit is : {self.speed_limit}\")\n",
    "                     \n",
    "car_1=car(\"Hijet\",\"Suzuki\",\"Red\",\"60\")\n",
    "car_2 = car('Corolla',\"Toyota\",'Black',\"100\")\n",
    "car_3 = car('Civic',\"Honda\",'Blue',\"70\")\n",
    "car_4 = car('Wagon R',\"Suzuki\",'Pink',\"90\")\n",
    "car_5 = car('Hilux',\"Toyota\",'Green',\"65\")\n",
    "\n",
    "\n",
    "car_1.car1_info()\n",
    "car_2.car1_info()\n",
    "car_3.car1_info()\n",
    "car_4.car1_info()\n",
    "car_5.car1_info()\n",
    "\n",
    "\n",
    "            \n",
    "            "
   ]
  },
  {
   "cell_type": "code",
   "execution_count": null,
   "metadata": {},
   "outputs": [],
   "source": []
  }
 ],
 "metadata": {
  "kernelspec": {
   "display_name": "Python 3",
   "language": "python",
   "name": "python3"
  },
  "language_info": {
   "codemirror_mode": {
    "name": "ipython",
    "version": 3
   },
   "file_extension": ".py",
   "mimetype": "text/x-python",
   "name": "python",
   "nbconvert_exporter": "python",
   "pygments_lexer": "ipython3",
   "version": "3.7.4"
  }
 },
 "nbformat": 4,
 "nbformat_minor": 2
}
