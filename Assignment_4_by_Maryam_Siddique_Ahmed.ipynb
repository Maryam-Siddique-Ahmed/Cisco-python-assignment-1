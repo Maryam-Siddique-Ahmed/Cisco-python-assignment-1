{
 "cells": [
  {
   "cell_type": "markdown",
   "metadata": {
    "collapsed": true
   },
   "source": [
    "# 1.Use a dictionary to store information about a person you know. Store their first name, last name, age, and the city in which they live. You should have keys such as first_name, last_name, age, and city. Print each piece of information stored in your dictionary. Add a new key value pair about qualification then update the qualification value to high academic level then delete it.\n",
    "\n"
   ]
  },
  {
   "cell_type": "code",
   "execution_count": 1,
   "metadata": {},
   "outputs": [
    {
     "name": "stdout",
     "output_type": "stream",
     "text": [
      " Store information about a person\n",
      "\n",
      "First Name : Maryam\n",
      "Last Name : Siddique Ahmed\n",
      "Age : 23\n",
      "City : Karachi\n",
      "\n",
      "Add a new key value pair about qualification\n",
      "\n",
      "First Name : Maryam\n",
      "Last Name : Siddique Ahmed\n",
      "Age : 23\n",
      "City : Karachi\n",
      "Qualification : Graduate\n",
      "\n",
      "Update the qualification value\n",
      "\n",
      "First Name : Maryam\n",
      "Last Name : Siddique Ahmed\n",
      "Age : 23\n",
      "City : Karachi\n",
      "Qualification : Inter\n",
      "\n",
      "Deleting the value\n",
      "\n",
      "First Name : Maryam\n",
      "Last Name : Siddique Ahmed\n",
      "Age : 23\n",
      "City : Karachi\n"
     ]
    }
   ],
   "source": [
    "person={\"First Name\":\"Maryam\",\"Last Name\":\"Siddique Ahmed\",\"Age\":\"23\",\"City\":\"Karachi\"}\n",
    "print(\" Store information about a person\\n\")\n",
    "for key,value in person.items():\n",
    "    print(key,\":\",value)\n",
    "person[\"Qualification\"]=\"Graduate\"\n",
    "print(\"\\nAdd a new key value pair about qualification\\n\")\n",
    "for key,value in person.items():\n",
    "    print(key,\":\",value)\n",
    "person[\"Qualification\"]=\"Inter\"\n",
    "print(\"\\nUpdate the qualification value\\n\")\n",
    "for key,value in person.items():\n",
    "    print(key,\":\",value)\n",
    "del person[\"Qualification\"]\n",
    "print(\"\\nDeleting the value\\n\")\n",
    "for key,value in person.items():\n",
    "    print(key,\":\",value)"
   ]
  },
  {
   "cell_type": "markdown",
   "metadata": {},
   "source": [
    "# 2.Make a dictionary called cities. Use the names of three cities as keys in your dictionary.Create a dictionary of information about each city and include the country that the city is in,its approximate population, and one fact about that city. The keys for each city’s dictionary should be something like country, population, and fact. Print the name of each city and all of the information you have stored about it.\n"
   ]
  },
  {
   "cell_type": "code",
   "execution_count": 2,
   "metadata": {},
   "outputs": [
    {
     "name": "stdout",
     "output_type": "stream",
     "text": [
      "Country:\n",
      "\t\t Pakistan\n",
      "Population:\n",
      "\t\t 15,741,406\n",
      "Fact:\n",
      "\t\t The City Of Lights\n",
      "Country:\n",
      "\t\t Turkey\n",
      "Population:\n",
      "\t\t 14,968,000\n",
      "Fact:\n",
      "\t\t It Is The Only City In The World Which Is Both In Europe And Asia Geographicaly.\n",
      "Country:\n",
      "\t\t China\n",
      "Population:\n",
      "\t\t 5-Milion\n",
      "Fact:\n",
      "\t\t It Is Best Importer And Exporter In The World\n"
     ]
    }
   ],
   "source": [
    "cities={\n",
    "    \"Karachi\":{\n",
    "        \"Country\":\"Pakistan\",\n",
    "        \"Population\":\"15,741,406\",\n",
    "        \"Fact\":\"The City of Lights\",\n",
    "    },\n",
    "    \"Istambol\":{\n",
    "        \"Country\":'turkey',\n",
    "        'Population':\"14,968,000\",\n",
    "        'Fact': 'it is the only city in the world which is both in Europe and Asia geographicaly.',\n",
    "     },\n",
    "    \"Shangai\":{\n",
    "        'Country': \"China\",\n",
    "        'Population':\"5-milion\",\n",
    "        \"Fact\" : \"It is best importer and exporter in the world\",\n",
    "    }\n",
    "    }\n",
    "for city in cities:\n",
    "    for keys,values in cities[city].items():\n",
    "        print(keys.title(),end=\":\\n\")\n",
    "        print(\"\\t\\t\",values.title())"
   ]
  },
  {
   "cell_type": "code",
   "execution_count": 3,
   "metadata": {},
   "outputs": [],
   "source": [
    "#3.A movie theater charges different ticket prices depending on a person’s age. If a person is under the age of 3, \n",
    "#the ticket is free; if they are between 3 and 12, the ticket is $10; and if they are over age 12, the ticket is $15. \n",
    "#Write a loop in which you ask users their age, and then tell them the cost of their movie ticket."
   ]
  },
  {
   "cell_type": "code",
   "execution_count": null,
   "metadata": {},
   "outputs": [],
   "source": [
    "while True:\n",
    "    age = input(\"Enter your age:\")\n",
    "    if age == 'q':\n",
    "        break\n",
    "    age = int(age)\n",
    "\n",
    "    if age < 3:\n",
    "        print(\"  You get in free !\")\n",
    "        break\n",
    "    elif age < 13:\n",
    "        print(\"  Your ticket cost $10\")\n",
    "        break\n",
    "    else:\n",
    "        print(\"  Your ticket cost $15\")\n",
    "        break"
   ]
  },
  {
   "cell_type": "code",
   "execution_count": null,
   "metadata": {},
   "outputs": [],
   "source": [
    "#4Write a function called favorite_book() that accepts one parameter, title. The function should print a message, such as One \n",
    "#of my favorite books is Alice in Wonderland. Call the function, making sure to include a book title as an argument in the \n",
    "#function call."
   ]
  },
  {
   "cell_type": "code",
   "execution_count": null,
   "metadata": {},
   "outputs": [],
   "source": [
    "def favorite_book():\n",
    "    title=\"Qasas-ul-Ambyia\"\n",
    "    print(f\"My favorite books is {title}.\")\n",
    "favorite_book()    "
   ]
  },
  {
   "cell_type": "code",
   "execution_count": null,
   "metadata": {},
   "outputs": [],
   "source": [
    "#.5Guess the number game\n",
    "#Write a program which randomly generate a number between 1 to 30 and ask the user in input field to guess the correct number.\n",
    "#Give three chances to user guess the number and also give hint to user if hidden number is greater or smaller than the number \n",
    "#he given to input field.\n"
   ]
  },
  {
   "cell_type": "code",
   "execution_count": null,
   "metadata": {},
   "outputs": [],
   "source": [
    "import random\n",
    "num = random.randint(1, 30)\n",
    "print(num)\n",
    "for n in range(3):\n",
    "    print('Guess a number between 1 and 30')\n",
    "    guess = input()\n",
    "    i = int(guess)\n",
    "    if i == num:\n",
    "        print(' \\nYou won !!!')\n",
    "        break\n",
    "    elif i < num:\n",
    "        print('Try Higher')\n",
    "    elif i > num:\n",
    "        print('Try Lower')\n",
    "else:\n",
    "    print(\" \\nYou Loose !!!\")"
   ]
  },
  {
   "cell_type": "code",
   "execution_count": null,
   "metadata": {},
   "outputs": [],
   "source": []
  },
  {
   "cell_type": "code",
   "execution_count": null,
   "metadata": {},
   "outputs": [],
   "source": []
  }
 ],
 "metadata": {
  "kernelspec": {
   "display_name": "Python 3",
   "language": "python",
   "name": "python3"
  },
  "language_info": {
   "codemirror_mode": {
    "name": "ipython",
    "version": 3
   },
   "file_extension": ".py",
   "mimetype": "text/x-python",
   "name": "python",
   "nbconvert_exporter": "python",
   "pygments_lexer": "ipython3",
   "version": "3.7.3"
  }
 },
 "nbformat": 4,
 "nbformat_minor": 2
}
