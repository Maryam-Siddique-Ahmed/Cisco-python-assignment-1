{
 "cells": [
  {
   "cell_type": "code",
   "execution_count": null,
   "metadata": {},
   "outputs": [],
   "source": [
    "#1. Make a calculator using Python with addition , subtraction , multiplication ,\n",
    "#division and power.\n"
   ]
  },
  {
   "cell_type": "code",
   "execution_count": 21,
   "metadata": {},
   "outputs": [
    {
     "name": "stdout",
     "output_type": "stream",
     "text": [
      ">>>>>>>>>>>>>>>>>>CALCULATOR<<<<<<<<<<<<<<<<<\n",
      "Enter the number: 2\n",
      "Enter the number: 3\n",
      "Select any operator on by their signs:\n",
      "Additon(+),subtraction(-),multiplication(*),division(//) and power(**)\n",
      "Enter the operator: +\n",
      "Answer:5\n"
     ]
    }
   ],
   "source": [
    "print(\">>>>>>>>>>>>>>>>>>CALCULATOR<<<<<<<<<<<<<<<<<\")\n",
    "a=(int(input(\"Enter the number: \")))\n",
    "b=(int(input(\"Enter the number: \")))\n",
    "print(\"Select any operator on by their signs:\")\n",
    "print(\"Additon(+),subtraction(-),multiplication(*),division(//) and power(**)\")\n",
    "opt=(input(\"Enter the operator: \"))\n",
    "if opt == \"+\":\n",
    "    c=a+b\n",
    "   \n",
    "\n"
   ]
  },
  {
   "cell_type": "code",
   "execution_count": null,
   "metadata": {},
   "outputs": [],
   "source": [
    "#2. Write a program to check if there is any numeric value in list using for loop"
   ]
  },
  {
   "cell_type": "code",
   "execution_count": 136,
   "metadata": {},
   "outputs": [
    {
     "name": "stdout",
     "output_type": "stream",
     "text": [
      "Numeric Value is Present\n"
     ]
    }
   ],
   "source": [
    "list1=[\"7\",\"Maryam\",\"10\",\"50\",\"Tehmina\",\"450\",\"30\",\"Farwa\"]\n",
    "empty_list=[]\n",
    "for list in list1:\n",
    "    a=list.isnumeric()\n",
    "    if a == True:\n",
    "       print(\"Numeric Value is Present\")\n",
    "       break    \n",
    "    else:\n",
    "       print(\"Numeric Value is Absent\")\n",
    "       break\n",
    "        \n",
    "    "
   ]
  },
  {
   "cell_type": "code",
   "execution_count": null,
   "metadata": {},
   "outputs": [],
   "source": [
    "#3. Write a Python script to add a key to a dictionary"
   ]
  },
  {
   "cell_type": "code",
   "execution_count": 142,
   "metadata": {},
   "outputs": [
    {
     "name": "stdout",
     "output_type": "stream",
     "text": [
      "{'Name': 'Maryam', 'F.Name': 'Siddique Ahmed'}\n",
      "Adding key\n",
      "{'Name': 'Maryam', 'F.Name': 'Siddique Ahmed', 'Course': 'A.I'}\n"
     ]
    }
   ],
   "source": [
    "Dict={\"Name\":\"Maryam\",\"F.Name\":\"Siddique Ahmed\"}\n",
    "print(Dict)\n",
    "print(\"Adding key\")\n",
    "Dict[\"Course\"]=\"A.I\"\n",
    "print(Dict)\n"
   ]
  },
  {
   "cell_type": "code",
   "execution_count": null,
   "metadata": {},
   "outputs": [],
   "source": [
    "#4. Write a Python program to sum all the numeric items in a dictionary"
   ]
  },
  {
   "cell_type": "code",
   "execution_count": 177,
   "metadata": {},
   "outputs": [
    {
     "name": "stdout",
     "output_type": "stream",
     "text": [
      "Total:\n",
      "31080\n"
     ]
    }
   ],
   "source": [
    "dict1={\"a\":30000,\"b\":300,\"zara\":700,\"t\":50,\"s\":30}\n",
    "t=0\n",
    "for i in dict1.values():\n",
    "    t=t+i\n",
    "print(f\"Total:\\n{t}\")\n",
    "        "
   ]
  },
  {
   "cell_type": "code",
   "execution_count": null,
   "metadata": {},
   "outputs": [],
   "source": [
    "#5. Write a program to identify duplicate values from list"
   ]
  },
  {
   "cell_type": "code",
   "execution_count": 55,
   "metadata": {},
   "outputs": [
    {
     "name": "stdout",
     "output_type": "stream",
     "text": [
      "list:\n",
      "[2, 4, 10, 20, 5, 2, 20, 4]\n",
      "Duplicate values:\n",
      "[2, 4, 10, 20, 5]\n"
     ]
    }
   ],
   "source": [
    "duplicate=[2, 4, 10, 20, 5, 2, 20, 4]\n",
    "final_list = [] \n",
    "for num in duplicate:\n",
    "    if num not in final_list:\n",
    "        final_list.append(num)\n",
    "print(f\"list:\\n{duplicate}\")\n",
    "print(f\"Duplicate values:\\n{final_list}\")\n",
    "      \n",
    "\n"
   ]
  },
  {
   "cell_type": "code",
   "execution_count": 178,
   "metadata": {},
   "outputs": [],
   "source": [
    "#6. Write a Python script to check if a given key already exists in a dictionary "
   ]
  },
  {
   "cell_type": "code",
   "execution_count": 26,
   "metadata": {},
   "outputs": [
    {
     "name": "stdout",
     "output_type": "stream",
     "text": [
      "Enter the Key: nme\n",
      "nme\n",
      "its does not exists in a dictionary \n"
     ]
    }
   ],
   "source": [
    "Dict_={\"Name\": 'Maryam', 'F.Name': 'Siddique Ahmed', 'Course': 'A.I'}\n",
    "check=(input(\"Enter the Key: \"))\n",
    "if check in Dict_:\n",
    "    print(f\"Key:{check},Value:{Dict_[check]}\\nit exists in a dictionary\")\n",
    "else:\n",
    "    print(f\"{check}\\nits does not exists in a dictionary \")"
   ]
  }
 ],
 "metadata": {
  "kernelspec": {
   "display_name": "Python 3",
   "language": "python",
   "name": "python3"
  },
  "language_info": {
   "codemirror_mode": {
    "name": "ipython",
    "version": 3
   },
   "file_extension": ".py",
   "mimetype": "text/x-python",
   "name": "python",
   "nbconvert_exporter": "python",
   "pygments_lexer": "ipython3",
   "version": "3.7.3"
  }
 },
 "nbformat": 4,
 "nbformat_minor": 2
}
